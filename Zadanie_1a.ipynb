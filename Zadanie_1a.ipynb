{
  "cells": [
    {
      "cell_type": "markdown",
      "metadata": {
        "id": "88lxDms-saqt"
      },
      "source": [
        "#Zadanie 1a (3 pkt)\n",
        "Celem zadania jest rozwiązanie problemu plecakowego dwoma metodami - brute force oraz według zadanej heurystyki. Należy zaimplementować metody klasy *KnapSack* - *solve_knapsack_brute_force* oraz *solve_knapsack_pw_ratio*. Poprzez rozwiązanie problemu rozumiemy podanie które przedmioty (indeksy w tablicy) należy spakować do plecaka oraz jaka jest sumaryczna wartość i masa plecaka. Punktacja wygląda następująco:\n",
        "\n",
        "\n",
        "*   Rozwiązanie problemu metodą brute force. *Podpowiedź: do wygenerowania wszystkich permutacji można użyć funkcji product z biblioteki itertools* - **1.5 pkt**\n",
        "*   Rozwiązanie problemu według heurystyki - do plecaka pakujemy przedmioty według stosunku wartości do wagi - **1 pkt**\n",
        "*   Dla metody brute force proszę wygenerować wykres zależności czasu wykonywania metody od liczby elementów w tablicach *weights* i *profits* (do obu tablic należy stopniowo dopisywać po jednym elemencie, np. 10-krotnie, wartości elementów nie mają znaczenia). Proszę również odpowiedzieć na pytania (w osobnej komórce tekstowej) - czy obie metody mają takie same rozwiązania? Jakie są Pani / Pana wnioski? - **0.5 pkt**\n",
        "\n",
        "\n"
      ]
    },
    {
      "cell_type": "code",
      "execution_count": 4,
      "metadata": {
        "id": "1X0PiYKZ2w63"
      },
      "outputs": [],
      "source": [
        "import numpy as np\n",
        "import itertools as it\n",
        "\n",
        "from matplotlib import pyplot as plt\n",
        "import random\n",
        "import time"
      ]
    },
    {
      "cell_type": "code",
      "execution_count": 5,
      "metadata": {
        "id": "_IOCNGpCuy8s"
      },
      "outputs": [],
      "source": [
        "weights = np.array([8, 3, 5, 2])\n",
        "capacity = 9\n",
        "profits = np.array([16, 8, 9, 6])\n"
      ]
    },
    {
      "cell_type": "code",
      "execution_count": 6,
      "metadata": {
        "id": "s5J82x9WuSOh"
      },
      "outputs": [
        {
          "name": "stdout",
          "output_type": "stream",
          "text": [
            "{'Max profit': 17, 'Max weight': 8, 'Indexes': [1, 2]}\n",
            "{'Max profit': 14, 'Max weight': 5, 'Indexes': [1, 3]}\n"
          ]
        }
      ],
      "source": [
        "class KnapSack:\n",
        "  def __init__(self, profits: np.array, weights: np.array, capacity: int):\n",
        "    self.profits = profits\n",
        "    self.weights = weights\n",
        "    self.capacity = capacity\n",
        "\n",
        "  def solve_knapsack_brute_force(self):\n",
        "    \"\"\"\n",
        "\n",
        "    \"\"\"\n",
        "    start_time = time.process_time()\n",
        "    variations = it.product(range(2), repeat=len(self.profits))\n",
        "    max_sum_profits = 0\n",
        "    max_sum_weight = 0\n",
        "    final_indexes = []\n",
        "    for variation in variations:\n",
        "      curr_sum_profit = 0\n",
        "      curr_sum_weight = 0\n",
        "      indexes = []\n",
        "      for index, (occurrence, profit, weight) in enumerate(zip(variation, self.profits, self.weights)):\n",
        "        if occurrence:\n",
        "          if curr_sum_weight + weight > self.capacity:\n",
        "            break\n",
        "          curr_sum_weight += weight\n",
        "          curr_sum_profit += profit\n",
        "          indexes.append(index)\n",
        "      if curr_sum_profit > max_sum_profits:\n",
        "        max_sum_profits = curr_sum_profit\n",
        "        max_sum_weight = curr_sum_weight\n",
        "        final_indexes = indexes.copy()\n",
        "    running_time = time.process_time() - start_time\n",
        "    return {\"Max profit\": max_sum_profits, \"Max weight\": max_sum_weight, \"Indexes\": final_indexes}, running_time\n",
        "\n",
        "  def solve_knapsack_pw_ratio(self):\n",
        "    \"\"\"\n",
        "    Returns the result of a heuristic function based on profit/weight ratio and capacity\n",
        "    \"\"\"\n",
        "    prof_to_weight_ratio_list = [(round(profit / weight, 2), profit, weight, index) for index, (profit, weight) in enumerate(zip(self.profits, self.weights))]\n",
        "    prof_to_weight_ratio_list = sorted(prof_to_weight_ratio_list, reverse = True ,key = lambda pw_list: pw_list[0])\n",
        "    max_sum_profits = 0\n",
        "    max_sum_weight = 0\n",
        "    indexes = []\n",
        "    for item in prof_to_weight_ratio_list:\n",
        "      if item[2] + max_sum_weight <= self.capacity:\n",
        "        max_sum_profits += item[1]\n",
        "        max_sum_weight += item[2]\n",
        "        indexes.append(item[3])\n",
        "      else:\n",
        "        break\n",
        "    return {\"Max profit\": max_sum_profits, \"Max weight\": max_sum_weight, \"Indexes\": sorted(indexes)}\n",
        "\n",
        "\n",
        "\n",
        "def get_plot_brute_force(knapsack: KnapSack, n_elements: np.array):\n",
        "  \"\"\"\n",
        "  Creates and saves a plot that is made of execution times based of n_elements and n_elements itself\n",
        "  :param knapsack: pointer to knapsack's class object\n",
        "  :param n_elements: number of elements to be added while executing solve_knapsack_brute_force() method\n",
        "  \"\"\"\n",
        "  times = []\n",
        "  n_profits = []\n",
        "  for _ in range(n_elements):\n",
        "    rand_profit = random.randint(1, 20)\n",
        "    rand_weight = random.randint(1, 10)\n",
        "    knapsack.profits = np.append(knapsack.profits, rand_profit)\n",
        "    knapsack.weights = np.append(knapsack.weights, rand_weight)\n",
        "    n_profits.append(len(knapsack.weights))\n",
        "    info, time_run = knapsack.solve_knapsack_brute_force()\n",
        "    times.append(time_run)\n",
        "  plt.plot(n_profits, times, linewidth=2.0)\n",
        "  plt.ylabel(\"Time\")\n",
        "  plt.xlabel(\"Number of elements\")\n",
        "  plt.savefig(\"Plot.png\")\n",
        "\n",
        "\n",
        "if __name__ == \"__main__\":\n",
        "  knapsack = KnapSack(profits, weights, capacity)\n",
        "  #get_plot_brute_force(knapsack, 10)                 # to create plot named \"Plot.png\"\n",
        "  info_bf, time = knapsack.solve_knapsack_brute_force()\n",
        "  print(info_bf)\n",
        "  info_pw = knapsack.solve_knapsack_pw_ratio()\n",
        "  print(info_pw)"
      ]
    },
    {
      "cell_type": "markdown",
      "metadata": {},
      "source": [
        "Wnioski: Metody zwracają różne rozwiązania. Metodą brute force znajdujemy prawidłowe rozwiązanie w nieoptymalnym czasie (wykładniczym). Za to metoda heurystyczna (tutaj porównywanie według współczynnika profitu do wagi), daje nam wynik poprawny lokalnie, niekoniecznie globalnie w optymalnym czasie."
      ]
    }
  ],
  "metadata": {
    "colab": {
      "collapsed_sections": [],
      "provenance": []
    },
    "kernelspec": {
      "display_name": "Python 3",
      "name": "python3"
    },
    "language_info": {
      "codemirror_mode": {
        "name": "ipython",
        "version": 3
      },
      "file_extension": ".py",
      "mimetype": "text/x-python",
      "name": "python",
      "nbconvert_exporter": "python",
      "pygments_lexer": "ipython3",
      "version": "3.8.10"
    }
  },
  "nbformat": 4,
  "nbformat_minor": 0
}
